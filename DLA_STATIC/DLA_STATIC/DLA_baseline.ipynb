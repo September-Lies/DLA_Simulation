{
 "cells": [
  {
   "cell_type": "code",
   "execution_count": 1,
   "metadata": {},
   "outputs": [
    {
     "data": {
      "image/png": "[encoded data removed]",
      "text/plain": [
       "<Figure size 576x576 with 1 Axes>"
      ]
     },
     "metadata": {
      "needs_background": "light"
     },
     "output_type": "display_data"
    }
   ],
   "source": [
    "import numpy as np\n",
    "import matplotlib.pyplot as plt\n",
    "import random\n",
    "\n",
    "# Set the size of the grid\n",
    "grid_size = 101\n",
    "center = grid_size // 2\n",
    "\n",
    "# Create a grid with a center point\n",
    "grid = np.zeros((grid_size+1, grid_size+1), dtype=int)\n",
    "grid[center, center] = 1\n",
    "\n",
    "def is_adjacent_to_cluster(x, y, grid):\n",
    "    \"\"\"Check if the point is adjacent to the cluster.\"\"\"\n",
    "    for dx in [-1, 0, 1]:\n",
    "        for dy in [-1, 0, 1]:\n",
    "            if dx == 0 and dy == 0:\n",
    "                continue\n",
    "            if grid[x + dx, y + dy] == 1:\n",
    "                return True\n",
    "    return False\n",
    "\n",
    "def random_walk(grid):\n",
    "    \"\"\"Perform a random walk until the particle sticks to the cluster.\"\"\"\n",
    "    x, y = random.choice([(0, random.randint(0, grid_size-1)), \n",
    "                          (grid_size-1, random.randint(0, grid_size-1)),\n",
    "                          (random.randint(0, grid_size-1), 0),\n",
    "                          (random.randint(0, grid_size-1), grid_size-1)])\n",
    "    \n",
    "    while True:\n",
    "        # Randomly move the particle\n",
    "        x += random.choice([-1, 0, 1])\n",
    "        y += random.choice([-1, 0, 1])\n",
    "\n",
    "        # Keep the particle within the bounds of the grid\n",
    "        x = max(0, min(grid_size-1, x))\n",
    "        y = max(0, min(grid_size-1, y))\n",
    "\n",
    "        # Check if the particle is adjacent to the cluster\n",
    "        if is_adjacent_to_cluster(x, y, grid):\n",
    "            grid[x, y] = 1\n",
    "            break\n",
    "\n",
    "# Number of particles\n",
    "n_particles = 1000\n",
    "\n",
    "# Run the random walk for each particle\n",
    "for _ in range(n_particles):\n",
    "    random_walk(grid)\n",
    "\n",
    "# Plotting the final grid\n",
    "plt.figure(figsize=(8, 8))\n",
    "plt.imshow(grid, cmap='Blues')\n",
    "plt.title(\"Diffusion Limited Aggregation (DLA)\")\n",
    "plt.show()"
   ]
  }
 ],
 "metadata": {
  "kernelspec": {
   "display_name": "Python 3",
   "language": "python",
   "name": "python3"
  },
  "language_info": {
   "codemirror_mode": {
    "name": "ipython",
    "version": 3
   },
   "file_extension": ".py",
   "mimetype": "text/x-python",
   "name": "python",
   "nbconvert_exporter": "python",
   "pygments_lexer": "ipython3",
   "version": "3.7.3"
  }
 },
 "nbformat": 4,
 "nbformat_minor": 2
}
